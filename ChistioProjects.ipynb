{
  "nbformat": 4,
  "nbformat_minor": 0,
  "metadata": {
    "colab": {
      "provenance": []
    },
    "kernelspec": {
      "name": "python3",
      "display_name": "Python 3"
    },
    "language_info": {
      "name": "python"
    }
  },
  "cells": [
    {
      "cell_type": "markdown",
      "source": [
        "**Guess the number**\n",
        "\n",
        "A randomly generated number, the user must guess this number.\n",
        "\n",
        " If the user's number is greater than the generated number, the user must be informed that his guess was greater.\n",
        "\n",
        "\n",
        "Also, if the user's number is smaller than the generated number, the user should be informed that his guess was smaller.\n",
        "\n",
        " This procedure continues until the user correctly guesses the generated number."
      ],
      "metadata": {
        "id": "MKB4ACrPPq7J"
      }
    },
    {
      "cell_type": "markdown",
      "source": [
        "---------------------------------------------------------------------------\n",
        "\n",
        "First, we will generate a random number between 0 and 100"
      ],
      "metadata": {
        "id": "3AwQzBYTSWXE"
      }
    },
    {
      "cell_type": "code",
      "execution_count": 36,
      "metadata": {
        "id": "DewYirsCPfPa"
      },
      "outputs": [],
      "source": [
        "from random import randrange\n",
        "number = randrange(0, 100)"
      ]
    },
    {
      "cell_type": "markdown",
      "source": [
        "---------------------------------------------------------------------------\n",
        "\n",
        "Create a loop to start guessing the number"
      ],
      "metadata": {
        "id": "bKiePE8zT4at"
      }
    },
    {
      "cell_type": "code",
      "source": [
        "has_guess = False\n",
        "while has_guess != True:\n",
        "  guess = int(input(\"Enter A Number between 0 and 100: \"))\n",
        "  if guess == number:\n",
        "    print(\"Ok! The Number is: \" + str(guess))\n",
        "    has_guess = True\n",
        "  elif guess < number:\n",
        "    print(\"Your Number is Lower Than Our Number. Try Again\")\n",
        "  else:\n",
        "    print(\"Your Number is Greater Than Our Number. Try Again\")"
      ],
      "metadata": {
        "colab": {
          "base_uri": "https://localhost:8080/"
        },
        "id": "Pp_gZSz7SSz7",
        "outputId": "5994853c-832d-4a8e-d225-c54e647200be"
      },
      "execution_count": 37,
      "outputs": [
        {
          "output_type": "stream",
          "name": "stdout",
          "text": [
            "Enter A Number between 0 and 100: 50\n",
            "Your Number is Lower Than Our Number. Try Again\n",
            "Enter A Number between 0 and 100: 70\n",
            "Your Number is Lower Than Our Number. Try Again\n",
            "Enter A Number between 0 and 100: 80\n",
            "Your Number is Lower Than Our Number. Try Again\n",
            "Enter A Number between 0 and 100: 90\n",
            "Your Number is Lower Than Our Number. Try Again\n",
            "Enter A Number between 0 and 100: 95\n",
            "Ok! The Number is: 95\n"
          ]
        }
      ]
    },
    {
      "cell_type": "markdown",
      "source": [
        "___________________________________________________________________________\n",
        "**Rock Paper Scissors**\n",
        "\n",
        "Rock Paper Scissors is a hand game for two or more players. Participants say \"rock, paper, scissors\" and then simultaneously shape their hands into a rock, a piece of paper, or scissors.\n",
        "\n",
        "The rules are simple:\n",
        "\n",
        "\n",
        "\n",
        "> The rock crushes the scissors.\n",
        "\n",
        "> Paper covers the stone.\n",
        "\n",
        "> Scissors cut the paper.\n",
        "\n",
        "\n",
        "\n",
        "\n",
        "\n"
      ],
      "metadata": {
        "id": "23rqjYppYcmr"
      }
    },
    {
      "cell_type": "code",
      "source": [
        "from random import randint"
      ],
      "metadata": {
        "id": "xJAKE8m3bD72"
      },
      "execution_count": 38,
      "outputs": []
    },
    {
      "cell_type": "code",
      "source": [
        "choices = ['R', 'r', 'P', 'p', 'S', 's']\n",
        "game = {\n",
        "    'R': 'Rock',\n",
        "    'r': 'Rock',\n",
        "    'P': 'Paper',\n",
        "    'p': 'Paper',\n",
        "    'S': 'Scissors',\n",
        "    's': 'Scissors'\n",
        "}\n",
        "player_score = 0\n",
        "computer_score = 0\n",
        "while True:\n",
        "   i = input(\"Rock(R), Paper(P), Scissors(S)\")\n",
        "   if i not in choices:\n",
        "    print(\"Invalid Input!\")\n",
        "    continue\n",
        "   print(\"You Choose \" + game[i])\n",
        "   rand_number = randint(0, 2)\n",
        "   c = choices[rand_number]\n",
        "   print(\"Computer Choose \" + game[c])\n",
        "   if i == c:\n",
        "    print(\"Equaled! Try Again\")\n",
        "   elif i == 'R' or i == 'r':\n",
        "    if c == 'P' or c == 'p':\n",
        "      print('Computer Won!')\n",
        "      computer_score += 1\n",
        "    else:\n",
        "      print('You Won')\n",
        "      player_score += 1\n",
        "   elif i == 'P' or i == 'p':\n",
        "    if c == 'S' or c == 's':\n",
        "      print('Computer Won!')\n",
        "      computer_score += 1\n",
        "    else:\n",
        "      print('You Won')\n",
        "      player_score += 1\n",
        "   elif i == 'S' or i == 's':\n",
        "    if c == 'R' or c == 'r':\n",
        "      print('Computer Won!')\n",
        "      computer_score += 1\n",
        "    else:\n",
        "      print('You Won')\n",
        "      player_score += 1\n",
        "   print('-----------------------------')\n",
        "   print('Your Total Score is: ' + str(player_score))\n",
        "   print('Computer Total Score is: ' + str(computer_score))\n",
        "   print('-----------------------------')\n",
        "   t = input('Do you want to continue? (y/n)')\n",
        "   if t == 'y':\n",
        "    pass\n",
        "   elif t == 'n':\n",
        "    break\n",
        "print('Your Final Score is: ' + str(player_score))"
      ],
      "metadata": {
        "colab": {
          "base_uri": "https://localhost:8080/"
        },
        "id": "HGL4XIe2ZUWD",
        "outputId": "f5247df3-fe4d-4f34-b3d7-86353cee9dad"
      },
      "execution_count": 39,
      "outputs": [
        {
          "output_type": "stream",
          "name": "stdout",
          "text": [
            "Rock(R), Paper(P), Scissors(S)r\n",
            "You Choose Rock\n",
            "Computer Choose Paper\n",
            "Computer Won!\n",
            "-----------------------------\n",
            "Your Total Score is: 0\n",
            "Computer Total Score is: 1\n",
            "-----------------------------\n",
            "Do you want to continue? (y/n)n\n",
            "Your Final Score is: 0\n"
          ]
        }
      ]
    },
    {
      "cell_type": "markdown",
      "source": [
        "---------------------------------------------------------------------------\n",
        "**Acronym**\n",
        "\n",
        "a type of abbreviation used as a word, formed by combining the initial letters (or initial parts) of words that make up a particular string.\n",
        "\n",
        "The pronunciation of an acronym is based on the typical rules of pronouncing words in a language and is not made up of the sounds of the names of individual letters."
      ],
      "metadata": {
        "id": "z8JuwqQz4Hpe"
      }
    },
    {
      "cell_type": "code",
      "source": [
        "i = input('Please Enter a Phrase: ')\n",
        "j = i.split()\n",
        "k = []\n",
        "for word in j:\n",
        "  if len(word) <= 2:\n",
        "    continue\n",
        "  k.append(word[0])\n",
        "s = ''\n",
        "s = s.join(k)\n",
        "print(s)"
      ],
      "metadata": {
        "colab": {
          "base_uri": "https://localhost:8080/"
        },
        "id": "LjeyAjvV4VCW",
        "outputId": "195df29f-0ab2-40bf-e15f-457cbd7d72bf"
      },
      "execution_count": 40,
      "outputs": [
        {
          "output_type": "stream",
          "name": "stdout",
          "text": [
            "Please Enter a Phrase: Islamic Republic of Iran\n",
            "IRI\n"
          ]
        }
      ]
    },
    {
      "cell_type": "markdown",
      "source": [
        "--------------------------------------------------------------------------\n",
        "Function base"
      ],
      "metadata": {
        "id": "CPm1YHs-6yJo"
      }
    },
    {
      "cell_type": "code",
      "source": [
        "def user_input():\n",
        "  return input('Please Enter a Phrase: ')\n",
        "def acronym(Phrase):\n",
        "  j = Phrase.split()\n",
        "  k = []\n",
        "  for word in j:\n",
        "    if len(word) <= 2:\n",
        "      continue\n",
        "    k.append(word[0])\n",
        "  s = ''\n",
        "  return s.join(k)\n",
        "i = user_input()\n",
        "p = acronym(i)\n",
        "print(p )"
      ],
      "metadata": {
        "colab": {
          "base_uri": "https://localhost:8080/"
        },
        "id": "mBOi36Cq4wpt",
        "outputId": "38fd8b29-b449-4100-a5cb-ed34eef90646"
      },
      "execution_count": 41,
      "outputs": [
        {
          "output_type": "stream",
          "name": "stdout",
          "text": [
            "Please Enter a Phrase: Islamic Republic of Iran\n",
            "IRI\n"
          ]
        }
      ]
    },
    {
      "cell_type": "markdown",
      "source": [
        "------------------------------------------------------------------\n",
        "**Omen**\n",
        "\n",
        "\n",
        "The program Omen based on the user's birth month\n"
      ],
      "metadata": {
        "id": "Kp7g1AML-Grg"
      }
    },
    {
      "cell_type": "code",
      "source": [
        "i = input('Please Enter Your Brith Month(1-12): ')\n",
        "if int(i) < 1 or int(i) > 12:\n",
        "  print('Invalid input')\n",
        "else:\n",
        "  f = open(i + \".txt\")\n",
        "  m = f.read()\n",
        "  print(m)"
      ],
      "metadata": {
        "colab": {
          "base_uri": "https://localhost:8080/"
        },
        "id": "cvIRUeNp-uTR",
        "outputId": "57db9fe3-4d89-4c48-d352-e95df2002ad2"
      },
      "execution_count": 42,
      "outputs": [
        {
          "output_type": "stream",
          "name": "stdout",
          "text": [
            "Please Enter Your Brith Month(1-12): 5\n",
            "Believe that everything is in the hands of God.\n"
          ]
        }
      ]
    },
    {
      "cell_type": "markdown",
      "source": [
        "------------------------------------------------------------------\n",
        "**Word guessing game**\n",
        "\n",
        "We have a word and the user must guess the word by completing its letters according to numer of turns."
      ],
      "metadata": {
        "id": "b87tfq_5Ba0A"
      }
    },
    {
      "cell_type": "code",
      "source": [
        "import sys\n",
        "name = input('Please Enter Your Name: ')\n",
        "print(\"Hello \" + name)\n",
        "word = \"chistio.ir\"\n",
        "turns = 10\n",
        "guess = ''\n",
        "while turns > 0:\n",
        "  i = input('Enter a Character: ')\n",
        "  if len(i) != 1:\n",
        "    print('Please Enter a Single Character!')\n",
        "    continue\n",
        "  guess += i\n",
        "  if i not in word:\n",
        "    turns -= 1\n",
        "    print('Wrong Guess')\n",
        "    print('You Have '+ str(turns) + ' Turn')\n",
        "  win = True\n",
        "  for c in word:\n",
        "    if c in guess:\n",
        "      # print(c, end = '')\n",
        "      sys.stdout.write(c)\n",
        "    else:\n",
        "      # print('_', end = '')\n",
        "      sys.stdout.write(\"_i\")\n",
        "      win = False\n",
        "  if win == True:\n",
        "    print(\"Congratulations! You win! \")\n",
        "    break\n",
        "print()\n",
        "if win == False:\n",
        "  print('GameOver')"
      ],
      "metadata": {
        "colab": {
          "base_uri": "https://localhost:8080/"
        },
        "id": "7BF3L_20_hme",
        "outputId": "41b5cba3-fc63-4606-cb09-a69f6c36e90c"
      },
      "execution_count": 35,
      "outputs": [
        {
          "output_type": "stream",
          "name": "stdout",
          "text": [
            "Please Enter Your Name: amin\n",
            "Hello amin\n",
            "Enter a Character: a\n",
            "Wrong Guess\n",
            "You Have 9 Turn\n",
            "__________Enter a Character: c\n",
            "c_________Enter a Character: h\n",
            "ch________Enter a Character: \n",
            "Please Enter a Single Character!\n",
            "Enter a Character: i\n",
            "chi__i__i_Enter a Character: s\n",
            "chis_i__i_Enter a Character: t\n",
            "chisti__i_Enter a Character: o\n",
            "chistio_i_Enter a Character: .\n",
            "chistio.i_Enter a Character: r\n",
            "chistio.irCongratulations! You win! \n",
            "\n"
          ]
        }
      ]
    }
  ]
}